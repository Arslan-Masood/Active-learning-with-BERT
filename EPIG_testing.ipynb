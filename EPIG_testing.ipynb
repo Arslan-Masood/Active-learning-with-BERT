{
 "cells": [
  {
   "cell_type": "code",
   "execution_count": 1,
   "metadata": {},
   "outputs": [
    {
     "name": "stderr",
     "output_type": "stream",
     "text": [
      "Skipped loading modules with pytorch-geometric dependency, missing a dependency. No module named 'torch_geometric'\n",
      "Skipped loading modules with pytorch-geometric dependency, missing a dependency. cannot import name 'DMPNN' from 'deepchem.models.torch_models' (/home/mmasood1/.conda/envs/env_arslan/lib/python3.9/site-packages/deepchem/models/torch_models/__init__.py)\n",
      "Skipped loading some Jax models, missing a dependency. No module named 'jax'\n"
     ]
    }
   ],
   "source": [
    "import os\n",
    "import pandas as pd\n",
    "import numpy as np\n",
    "\n",
    "import torch\n",
    "import deepchem as dc\n",
    "from pytorch_lightning import seed_everything\n",
    "\n",
    "import wandb\n",
    "os.environ[\"WANDB_SILENT\"] = \"true\"\n",
    "wandb.login(key = \"27edf9c66b032c03f72d30e923276b93aa736429\")\n",
    "\n",
    "import torch.multiprocessing as mp\n",
    "import gc\n",
    "torch.multiprocessing.set_sharing_strategy('file_system')\n",
    "\n",
    "from utils.data_utils import scafoldsplit_train_test, convert_to_dataframe, get_initial_set_with_main_and_aux_samples\n",
    "from utils.data_utils import convert_dataframe_to_dataloader\n",
    "\n",
    "from utils.utils import wandb_init_model, compute_binary_classification_metrics_MT, active_learning_loop\n",
    "from utils.model_utils import get_pred_with_uncertainities"
   ]
  },
  {
   "cell_type": "code",
   "execution_count": 2,
   "metadata": {},
   "outputs": [],
   "source": [
    "config = {\n",
    "        # directories\n",
    "        \"project_name\": \"Test\",\n",
    "        \"metadata_dir\": '/projects/home/mmasood1/trained_model_predictions/Tox21/Frozen_BERT/Main_aux_Tasks/',\n",
    "        \"target_file\": \"/projects/home/mmasood1/arslan_data_repository/Tox21/complete_Tox21.csv\",\n",
    "        \"BERT_features_file\":\"/projects/home/mmasood1/arslan_data_repository/Tox21/Tox21_BERT_features.csv\",\n",
    "        \"model_weights_dir\" : '/projects/home/mmasood1/Model_weights/Tox21/',\n",
    "        \"pos_weights\": \"/projects/home/mmasood1/arslan_data_repository/Tox21/pos_weights.csv\",\n",
    "        \"class_weights\": \"/projects/home/mmasood1/arslan_data_repository/Tox21/target_weights.csv\",\n",
    "        \n",
    "        # data\n",
    "        \"features_type\" :\"BERT\",\n",
    "        \"FP_size\" : 1024,\n",
    "        \"train_frac\": 0.8,\n",
    "\n",
    "        # architechture\n",
    "        \"input_dim\": 768,\n",
    "        \"hidden_dim\": 128,\n",
    "        \"depth\" : 1,\n",
    "        \"dropout_p\": 0.2,\n",
    "        \"BatchNorm1d\": True,\n",
    "        \"use_skip_connection\": True,\n",
    "    \n",
    "        # training\n",
    "        \"optim\": 'Adam',#SGD\n",
    "        \"lr_schedulers\": \"CosineAnnealingLR\",\n",
    "        \"lr\": 1e-3,\n",
    "        \"l2_lambda\": 0.0,\n",
    "        \"optm_l2_lambda\": 1e-3,\n",
    "        \"epochs\": 10,\n",
    "        \"compute_metric_after_n_epochs\": 5,\n",
    "        \"batch_size\": 512,\n",
    "        \"EarlyStopping\": False, \n",
    "        \"pretrained_model\": False,\n",
    "        \n",
    "        # loss\n",
    "        \"missing\" : 'nan',\n",
    "        \"alpha\": 0.0,\n",
    "        \"beta\": 0.0,\n",
    "        \"gamma\":0.0,\n",
    "\n",
    "        \"gpu\": [1],\n",
    "        \"accelerator\": \"gpu\",\n",
    "        \"device\" :torch.device(\"cuda\"),\n",
    "        \"return_trainer\": True, \n",
    "        \"save_predicitons\" : True,\n",
    "        \"Final_model\": False,\n",
    "\n",
    "        # active learning\n",
    "        \"num_forward_passes\": 2,\n",
    "        \"num_itterations\": 1000,\n",
    "        \"sampling_strategy\": \"EPIG_MT\",\n",
    "        \"n_query\":100\n",
    "    }\n",
    "\n",
    "# get targets information\n",
    "# get targets information\n",
    "data = pd.read_csv(config[\"target_file\"])\n",
    "all_tasks = data.loc[:, \"NR-AR\":\"SR-p53\"].columns.tolist()\n",
    "config[\"main_task\"] = [\"NR-AR\"]\n",
    "\n",
    "config[\"aux_task\"]  = all_tasks.copy()\n",
    "config[\"aux_task\"].remove(config[\"main_task\"][0])\n",
    "\n",
    "config[\"main_task_index\"] = all_tasks.index(config[\"main_task\"][0])\n",
    "config[\"aux_task_index\"] = [all_tasks.index(i) for i in config[\"aux_task\"]]\n",
    "\n",
    "target_names = config[\"main_task\"] + config[\"aux_task\"]\n",
    "config[\"project_name\"] = config[\"project_name\"] +\"_\"+ config[\"main_task\"][0]\n",
    "\n",
    "config[\"main_task_samples\"] = 498\n",
    "config[\"aux_task_samples\"] = 100\n",
    "\n",
    "config[\"num_of_tasks\"] = len(target_names)\n",
    "config[\"selected_tasks\"] = target_names\n",
    "\n",
    "config[\"sample_only_from_aux\"] = True\n",
    "\n",
    "config[\"loss_type\"] = \"BCE\" #\"Focal_loss\",# \"BCE\",\"Focal_loss_v2\"\n",
    "config[\"seed\"] = 42\n"
   ]
  },
  {
   "cell_type": "code",
   "execution_count": 3,
   "metadata": {},
   "outputs": [
    {
     "name": "stdout",
     "output_type": "stream",
     "text": [
      "train_test_features (6121, 768) (1531, 768)\n",
      "train_test_targets (6121, 12) (1531, 12)\n",
      "train_set [0.0, 114.0, 183.0, 183.0, 201.0, 246.0, 253.0, 276.0, 573.0, 628.0, 673.0, 675.0]\n",
      "test_set [42.0, 47.0, 52.0, 55.0, 63.0, 88.0, 91.0, 139.0, 140.0, 177.0, 204.0, 218.0]\n",
      "pool_set [0.0, 93.0, 152.0, 153.0, 172.0, 215.0, 216.0, 231.0, 489.0, 528.0, 562.0, 568.0]\n",
      "val_set [0.0, 21.0, 29.0, 30.0, 31.0, 31.0, 37.0, 45.0, 84.0, 100.0, 107.0, 111.0]\n",
      "initial_set [0.0, 0.0, 2.0, 2.0, 3.0, 3.0, 4.0, 12.0, 12.0, 14.0, 14.0, 249.0]\n"
     ]
    }
   ],
   "source": [
    "# Splitting by using deepchem\n",
    "np.random.seed(config[\"seed\"])\n",
    "train_set, test_set = scafoldsplit_train_test(config)\n",
    "config[\"main_task_samples\"] = (train_set.y[:, config[\"main_task_index\"]] == 1).sum() * 2\n",
    "initial_set, train_set = get_initial_set_with_main_and_aux_samples(train_set, config)\n",
    "\n",
    "randomstratifiedsplitter = dc.splits.RandomStratifiedSplitter()\n",
    "pool_set, val_set = randomstratifiedsplitter.train_test_split(train_set,\n",
    "                                                            frac_train = 0.85,\n",
    "                                                            seed = config[\"seed\"])\n",
    "\n",
    "print(\"train_set\", sorted(np.nansum(train_set.y, axis=0)))\n",
    "print(\"test_set\", sorted(np.nansum(test_set.y, axis=0)))\n",
    "print(\"pool_set\", sorted(np.nansum(pool_set.y, axis=0)))\n",
    "print(\"val_set\", sorted(np.nansum(val_set.y, axis=0)))\n",
    "print(\"initial_set\", sorted(np.nansum(initial_set.y, axis=0)))\n",
    "\n",
    "\n",
    "# In[4]:\n",
    "\n",
    "\n",
    "# Who cares about deepchem data_object, trash it\n",
    "initial_set = convert_to_dataframe(initial_set, config[\"selected_tasks\"])\n",
    "val_set = convert_to_dataframe(val_set, config[\"selected_tasks\"])\n",
    "pool_set = convert_to_dataframe(pool_set, config[\"selected_tasks\"])\n",
    "test_set = convert_to_dataframe(test_set, config[\"selected_tasks\"])"
   ]
  },
  {
   "cell_type": "code",
   "execution_count": 4,
   "metadata": {},
   "outputs": [
    {
     "name": "stderr",
     "output_type": "stream",
     "text": [
      "Global seed set to 42\n"
     ]
    },
    {
     "name": "stdout",
     "output_type": "stream",
     "text": [
      "After merging (594, 768)\n",
      "After merging (916, 768)\n",
      "After merging (1531, 768)\n",
      "After merging (5192, 768)\n"
     ]
    },
    {
     "name": "stderr",
     "output_type": "stream",
     "text": [
      "/home/mmasood1/.conda/envs/env_arslan/lib/python3.9/site-packages/pytorch_lightning/loggers/wandb.py:395: UserWarning: There is a wandb run already in progress and newly created instances of `WandbLogger` will reuse this run. If this is not desired, call `wandb.finish()` before instantiating `WandbLogger`.\n",
      "  rank_zero_warn(\n",
      "GPU available: True (cuda), used: True\n",
      "TPU available: False, using: 0 TPU cores\n",
      "IPU available: False, using: 0 IPUs\n",
      "HPU available: False, using: 0 HPUs\n",
      "/home/mmasood1/.conda/envs/env_arslan/lib/python3.9/site-packages/pytorch_lightning/callbacks/model_checkpoint.py:612: UserWarning: Checkpoint directory /projects/home/mmasood1/Model_weights/Tox21/ exists and is not empty.\n",
      "  rank_zero_warn(f\"Checkpoint directory {dirpath} exists and is not empty.\")\n",
      "LOCAL_RANK: 0 - CUDA_VISIBLE_DEVICES: [0,1]\n",
      "\n",
      "  | Name                   | Type              | Params\n",
      "-------------------------------------------------------------\n",
      "0 | weighted_creterien     | BCEWithLogitsLoss | 0     \n",
      "1 | non_weighted_creterian | BCEWithLogitsLoss | 0     \n",
      "2 | FL                     | FocalLoss         | 0     \n",
      "3 | input_layer            | Linear            | 98.4 K\n",
      "4 | Hidden_block           | ModuleList        | 16.8 K\n",
      "5 | output_layer           | Linear            | 1.5 K \n",
      "6 | dropout                | Dropout           | 0     \n",
      "7 | batchnorm1             | BatchNorm1d       | 256   \n",
      "-------------------------------------------------------------\n",
      "117 K     Trainable params\n",
      "0         Non-trainable params\n",
      "117 K     Total params\n",
      "0.468     Total estimated model params size (MB)\n"
     ]
    },
    {
     "data": {
      "application/vnd.jupyter.widget-view+json": {
       "model_id": "0e6a21647d164063b623882eb526cfe5",
       "version_major": 2,
       "version_minor": 0
      },
      "text/plain": [
       "Sanity Checking: 0it [00:00, ?it/s]"
      ]
     },
     "metadata": {},
     "output_type": "display_data"
    },
    {
     "name": "stderr",
     "output_type": "stream",
     "text": [
      "/home/mmasood1/.conda/envs/env_arslan/lib/python3.9/site-packages/pytorch_lightning/trainer/connectors/data_connector.py:430: PossibleUserWarning: The dataloader, val_dataloader, does not have many workers which may be a bottleneck. Consider increasing the value of the `num_workers` argument` (try 32 which is the number of cpus on this machine) in the `DataLoader` init to improve performance.\n",
      "  rank_zero_warn(\n",
      "/home/mmasood1/.conda/envs/env_arslan/lib/python3.9/site-packages/sklearn/metrics/_ranking.py:1146: UndefinedMetricWarning: No positive samples in y_true, true positive value should be meaningless\n",
      "  warnings.warn(\n",
      "/home/mmasood1/.conda/envs/env_arslan/lib/python3.9/site-packages/sklearn/metrics/_ranking.py:993: UserWarning: No positive class found in y_true, recall is set to one for all thresholds.\n",
      "  warnings.warn(\n",
      "/home/mmasood1/.conda/envs/env_arslan/lib/python3.9/site-packages/sklearn/metrics/_classification.py:1509: UndefinedMetricWarning: F-score is ill-defined and being set to 0.0 due to no true nor predicted samples. Use `zero_division` parameter to control this behavior.\n",
      "  _warn_prf(average, modifier, f\"{metric.capitalize()} is\", len(result))\n",
      "/home/mmasood1/.conda/envs/env_arslan/lib/python3.9/site-packages/sklearn/metrics/_ranking.py:993: UserWarning: No positive class found in y_true, recall is set to one for all thresholds.\n",
      "  warnings.warn(\n",
      "/home/mmasood1/.conda/envs/env_arslan/lib/python3.9/site-packages/pytorch_lightning/trainer/connectors/data_connector.py:430: PossibleUserWarning: The dataloader, train_dataloader, does not have many workers which may be a bottleneck. Consider increasing the value of the `num_workers` argument` (try 32 which is the number of cpus on this machine) in the `DataLoader` init to improve performance.\n",
      "  rank_zero_warn(\n",
      "/home/mmasood1/.conda/envs/env_arslan/lib/python3.9/site-packages/pytorch_lightning/loops/fit_loop.py:280: PossibleUserWarning: The number of training batches (1) is smaller than the logging interval Trainer(log_every_n_steps=50). Set a lower value for log_every_n_steps if you want to see logs for the training epoch.\n",
      "  rank_zero_warn(\n"
     ]
    },
    {
     "data": {
      "application/vnd.jupyter.widget-view+json": {
       "model_id": "5b8460c9cb3243febf3ffa41512469d9",
       "version_major": 2,
       "version_minor": 0
      },
      "text/plain": [
       "Training: 0it [00:00, ?it/s]"
      ]
     },
     "metadata": {},
     "output_type": "display_data"
    },
    {
     "data": {
      "application/vnd.jupyter.widget-view+json": {
       "model_id": "6d87abbd6cff40f7a9cbe8f96c27e294",
       "version_major": 2,
       "version_minor": 0
      },
      "text/plain": [
       "Validation: 0it [00:00, ?it/s]"
      ]
     },
     "metadata": {},
     "output_type": "display_data"
    },
    {
     "name": "stderr",
     "output_type": "stream",
     "text": [
      "/home/mmasood1/.conda/envs/env_arslan/lib/python3.9/site-packages/sklearn/metrics/_ranking.py:1146: UndefinedMetricWarning: No positive samples in y_true, true positive value should be meaningless\n",
      "  warnings.warn(\n",
      "/home/mmasood1/.conda/envs/env_arslan/lib/python3.9/site-packages/sklearn/metrics/_ranking.py:993: UserWarning: No positive class found in y_true, recall is set to one for all thresholds.\n",
      "  warnings.warn(\n",
      "/home/mmasood1/.conda/envs/env_arslan/lib/python3.9/site-packages/sklearn/metrics/_classification.py:1509: UndefinedMetricWarning: F-score is ill-defined and being set to 0.0 due to no true nor predicted samples. Use `zero_division` parameter to control this behavior.\n",
      "  _warn_prf(average, modifier, f\"{metric.capitalize()} is\", len(result))\n",
      "/home/mmasood1/.conda/envs/env_arslan/lib/python3.9/site-packages/sklearn/metrics/_ranking.py:993: UserWarning: No positive class found in y_true, recall is set to one for all thresholds.\n",
      "  warnings.warn(\n",
      "/home/mmasood1/.conda/envs/env_arslan/lib/python3.9/site-packages/sklearn/metrics/_ranking.py:1146: UndefinedMetricWarning: No positive samples in y_true, true positive value should be meaningless\n",
      "  warnings.warn(\n",
      "/home/mmasood1/.conda/envs/env_arslan/lib/python3.9/site-packages/sklearn/metrics/_ranking.py:993: UserWarning: No positive class found in y_true, recall is set to one for all thresholds.\n",
      "  warnings.warn(\n",
      "/home/mmasood1/.conda/envs/env_arslan/lib/python3.9/site-packages/sklearn/metrics/_classification.py:1509: UndefinedMetricWarning: F-score is ill-defined and being set to 0.0 due to no true nor predicted samples. Use `zero_division` parameter to control this behavior.\n",
      "  _warn_prf(average, modifier, f\"{metric.capitalize()} is\", len(result))\n",
      "/home/mmasood1/.conda/envs/env_arslan/lib/python3.9/site-packages/sklearn/metrics/_ranking.py:993: UserWarning: No positive class found in y_true, recall is set to one for all thresholds.\n",
      "  warnings.warn(\n",
      "/home/mmasood1/.conda/envs/env_arslan/lib/python3.9/site-packages/sklearn/metrics/_ranking.py:1146: UndefinedMetricWarning: No positive samples in y_true, true positive value should be meaningless\n",
      "  warnings.warn(\n",
      "/home/mmasood1/.conda/envs/env_arslan/lib/python3.9/site-packages/sklearn/metrics/_ranking.py:993: UserWarning: No positive class found in y_true, recall is set to one for all thresholds.\n",
      "  warnings.warn(\n",
      "/home/mmasood1/.conda/envs/env_arslan/lib/python3.9/site-packages/sklearn/metrics/_classification.py:1509: UndefinedMetricWarning: F-score is ill-defined and being set to 0.0 due to no true nor predicted samples. Use `zero_division` parameter to control this behavior.\n",
      "  _warn_prf(average, modifier, f\"{metric.capitalize()} is\", len(result))\n",
      "/home/mmasood1/.conda/envs/env_arslan/lib/python3.9/site-packages/sklearn/metrics/_ranking.py:993: UserWarning: No positive class found in y_true, recall is set to one for all thresholds.\n",
      "  warnings.warn(\n"
     ]
    },
    {
     "data": {
      "application/vnd.jupyter.widget-view+json": {
       "model_id": "4e2ee85f9f484b229d187d5b1ca9f99b",
       "version_major": 2,
       "version_minor": 0
      },
      "text/plain": [
       "Validation: 0it [00:00, ?it/s]"
      ]
     },
     "metadata": {},
     "output_type": "display_data"
    },
    {
     "data": {
      "application/vnd.jupyter.widget-view+json": {
       "model_id": "a24340127a7e4a39b4182dbcca6656e4",
       "version_major": 2,
       "version_minor": 0
      },
      "text/plain": [
       "Validation: 0it [00:00, ?it/s]"
      ]
     },
     "metadata": {},
     "output_type": "display_data"
    },
    {
     "data": {
      "application/vnd.jupyter.widget-view+json": {
       "model_id": "ab9423c90c7745888849cd85f5072c0e",
       "version_major": 2,
       "version_minor": 0
      },
      "text/plain": [
       "Validation: 0it [00:00, ?it/s]"
      ]
     },
     "metadata": {},
     "output_type": "display_data"
    },
    {
     "data": {
      "application/vnd.jupyter.widget-view+json": {
       "model_id": "7a47a69104b64ce0a4eb8831e351ab35",
       "version_major": 2,
       "version_minor": 0
      },
      "text/plain": [
       "Validation: 0it [00:00, ?it/s]"
      ]
     },
     "metadata": {},
     "output_type": "display_data"
    },
    {
     "data": {
      "application/vnd.jupyter.widget-view+json": {
       "model_id": "7c3561c8f4fc4b1284c9b1ec6bc5acdd",
       "version_major": 2,
       "version_minor": 0
      },
      "text/plain": [
       "Validation: 0it [00:00, ?it/s]"
      ]
     },
     "metadata": {},
     "output_type": "display_data"
    },
    {
     "name": "stderr",
     "output_type": "stream",
     "text": [
      "/home/mmasood1/.conda/envs/env_arslan/lib/python3.9/site-packages/sklearn/metrics/_ranking.py:1146: UndefinedMetricWarning: No positive samples in y_true, true positive value should be meaningless\n",
      "  warnings.warn(\n",
      "/home/mmasood1/.conda/envs/env_arslan/lib/python3.9/site-packages/sklearn/metrics/_ranking.py:993: UserWarning: No positive class found in y_true, recall is set to one for all thresholds.\n",
      "  warnings.warn(\n",
      "/home/mmasood1/.conda/envs/env_arslan/lib/python3.9/site-packages/sklearn/metrics/_classification.py:1509: UndefinedMetricWarning: F-score is ill-defined and being set to 0.0 due to no true nor predicted samples. Use `zero_division` parameter to control this behavior.\n",
      "  _warn_prf(average, modifier, f\"{metric.capitalize()} is\", len(result))\n",
      "/home/mmasood1/.conda/envs/env_arslan/lib/python3.9/site-packages/sklearn/metrics/_ranking.py:993: UserWarning: No positive class found in y_true, recall is set to one for all thresholds.\n",
      "  warnings.warn(\n",
      "/home/mmasood1/.conda/envs/env_arslan/lib/python3.9/site-packages/sklearn/metrics/_ranking.py:1146: UndefinedMetricWarning: No positive samples in y_true, true positive value should be meaningless\n",
      "  warnings.warn(\n",
      "/home/mmasood1/.conda/envs/env_arslan/lib/python3.9/site-packages/sklearn/metrics/_ranking.py:993: UserWarning: No positive class found in y_true, recall is set to one for all thresholds.\n",
      "  warnings.warn(\n",
      "/home/mmasood1/.conda/envs/env_arslan/lib/python3.9/site-packages/sklearn/metrics/_classification.py:1509: UndefinedMetricWarning: F-score is ill-defined and being set to 0.0 due to no true nor predicted samples. Use `zero_division` parameter to control this behavior.\n",
      "  _warn_prf(average, modifier, f\"{metric.capitalize()} is\", len(result))\n",
      "/home/mmasood1/.conda/envs/env_arslan/lib/python3.9/site-packages/sklearn/metrics/_ranking.py:993: UserWarning: No positive class found in y_true, recall is set to one for all thresholds.\n",
      "  warnings.warn(\n",
      "/home/mmasood1/.conda/envs/env_arslan/lib/python3.9/site-packages/sklearn/metrics/_ranking.py:1146: UndefinedMetricWarning: No positive samples in y_true, true positive value should be meaningless\n",
      "  warnings.warn(\n",
      "/home/mmasood1/.conda/envs/env_arslan/lib/python3.9/site-packages/sklearn/metrics/_ranking.py:993: UserWarning: No positive class found in y_true, recall is set to one for all thresholds.\n",
      "  warnings.warn(\n",
      "/home/mmasood1/.conda/envs/env_arslan/lib/python3.9/site-packages/sklearn/metrics/_classification.py:1509: UndefinedMetricWarning: F-score is ill-defined and being set to 0.0 due to no true nor predicted samples. Use `zero_division` parameter to control this behavior.\n",
      "  _warn_prf(average, modifier, f\"{metric.capitalize()} is\", len(result))\n",
      "/home/mmasood1/.conda/envs/env_arslan/lib/python3.9/site-packages/sklearn/metrics/_ranking.py:993: UserWarning: No positive class found in y_true, recall is set to one for all thresholds.\n",
      "  warnings.warn(\n"
     ]
    },
    {
     "data": {
      "application/vnd.jupyter.widget-view+json": {
       "model_id": "b82bd045053d4d2bb33f901d2116a5aa",
       "version_major": 2,
       "version_minor": 0
      },
      "text/plain": [
       "Validation: 0it [00:00, ?it/s]"
      ]
     },
     "metadata": {},
     "output_type": "display_data"
    },
    {
     "data": {
      "application/vnd.jupyter.widget-view+json": {
       "model_id": "f6e491f8802749cf862de292c4f8c81e",
       "version_major": 2,
       "version_minor": 0
      },
      "text/plain": [
       "Validation: 0it [00:00, ?it/s]"
      ]
     },
     "metadata": {},
     "output_type": "display_data"
    },
    {
     "data": {
      "application/vnd.jupyter.widget-view+json": {
       "model_id": "94ef19cea9b14d1b9a8d91f1589167e1",
       "version_major": 2,
       "version_minor": 0
      },
      "text/plain": [
       "Validation: 0it [00:00, ?it/s]"
      ]
     },
     "metadata": {},
     "output_type": "display_data"
    },
    {
     "data": {
      "application/vnd.jupyter.widget-view+json": {
       "model_id": "98420b8ddea54b9eb0e06c0b8cdbe33f",
       "version_major": 2,
       "version_minor": 0
      },
      "text/plain": [
       "Validation: 0it [00:00, ?it/s]"
      ]
     },
     "metadata": {},
     "output_type": "display_data"
    },
    {
     "name": "stderr",
     "output_type": "stream",
     "text": [
      "/home/mmasood1/.conda/envs/env_arslan/lib/python3.9/site-packages/sklearn/metrics/_ranking.py:1146: UndefinedMetricWarning: No positive samples in y_true, true positive value should be meaningless\n",
      "  warnings.warn(\n",
      "/home/mmasood1/.conda/envs/env_arslan/lib/python3.9/site-packages/sklearn/metrics/_ranking.py:993: UserWarning: No positive class found in y_true, recall is set to one for all thresholds.\n",
      "  warnings.warn(\n",
      "/home/mmasood1/.conda/envs/env_arslan/lib/python3.9/site-packages/sklearn/metrics/_classification.py:1509: UndefinedMetricWarning: F-score is ill-defined and being set to 0.0 due to no true nor predicted samples. Use `zero_division` parameter to control this behavior.\n",
      "  _warn_prf(average, modifier, f\"{metric.capitalize()} is\", len(result))\n",
      "/home/mmasood1/.conda/envs/env_arslan/lib/python3.9/site-packages/sklearn/metrics/_ranking.py:993: UserWarning: No positive class found in y_true, recall is set to one for all thresholds.\n",
      "  warnings.warn(\n",
      "/home/mmasood1/.conda/envs/env_arslan/lib/python3.9/site-packages/sklearn/metrics/_ranking.py:1146: UndefinedMetricWarning: No positive samples in y_true, true positive value should be meaningless\n",
      "  warnings.warn(\n",
      "/home/mmasood1/.conda/envs/env_arslan/lib/python3.9/site-packages/sklearn/metrics/_ranking.py:993: UserWarning: No positive class found in y_true, recall is set to one for all thresholds.\n",
      "  warnings.warn(\n",
      "/home/mmasood1/.conda/envs/env_arslan/lib/python3.9/site-packages/sklearn/metrics/_classification.py:1509: UndefinedMetricWarning: F-score is ill-defined and being set to 0.0 due to no true nor predicted samples. Use `zero_division` parameter to control this behavior.\n",
      "  _warn_prf(average, modifier, f\"{metric.capitalize()} is\", len(result))\n",
      "/home/mmasood1/.conda/envs/env_arslan/lib/python3.9/site-packages/sklearn/metrics/_ranking.py:993: UserWarning: No positive class found in y_true, recall is set to one for all thresholds.\n",
      "  warnings.warn(\n",
      "/home/mmasood1/.conda/envs/env_arslan/lib/python3.9/site-packages/sklearn/metrics/_ranking.py:1146: UndefinedMetricWarning: No positive samples in y_true, true positive value should be meaningless\n",
      "  warnings.warn(\n",
      "/home/mmasood1/.conda/envs/env_arslan/lib/python3.9/site-packages/sklearn/metrics/_ranking.py:993: UserWarning: No positive class found in y_true, recall is set to one for all thresholds.\n",
      "  warnings.warn(\n",
      "/home/mmasood1/.conda/envs/env_arslan/lib/python3.9/site-packages/sklearn/metrics/_classification.py:1509: UndefinedMetricWarning: F-score is ill-defined and being set to 0.0 due to no true nor predicted samples. Use `zero_division` parameter to control this behavior.\n",
      "  _warn_prf(average, modifier, f\"{metric.capitalize()} is\", len(result))\n",
      "/home/mmasood1/.conda/envs/env_arslan/lib/python3.9/site-packages/sklearn/metrics/_ranking.py:993: UserWarning: No positive class found in y_true, recall is set to one for all thresholds.\n",
      "  warnings.warn(\n",
      "`Trainer.fit` stopped: `max_epochs=10` reached.\n"
     ]
    }
   ],
   "source": [
    "from utils.models import Vanilla_MLP_classifier\n",
    "itteration = 0\n",
    "seed_everything(seed = config[\"seed\"])\n",
    "config[\"itteration\"] = itteration\n",
    "config[\"model_name\"] = rf'itteration_{config[\"itteration\"]}_s{config[\"seed\"]}_alpha_{config[\"alpha\"]}_gamma_{config[\"gamma\"]}_loss_type_{config[\"loss_type\"]}_λ{config[\"optm_l2_lambda\"]}'\n",
    "\n",
    "\n",
    "\n",
    "\n",
    "train_set_main_active,train_set_main_inactive =  (initial_set[config[\"main_task\"]] == 1).sum().values, (initial_set[config[\"main_task\"]] == 0).sum().values\n",
    "train_set_aux_active,train_set_aux_inactive = (initial_set[config[\"aux_task\"]] == 1).sum().sum(), (initial_set[config[\"aux_task\"]] == 0).sum().sum()\n",
    "train_set_main_total = train_set_main_active + train_set_main_inactive\n",
    "train_set_aux_total = train_set_aux_active + train_set_aux_inactive\n",
    "# get dataloaders\n",
    "train_dataloader = convert_dataframe_to_dataloader(dataframe= initial_set, config = config, shuffle= True, drop_last = True)\n",
    "val_dataloader = convert_dataframe_to_dataloader(dataframe= val_set, config = config, shuffle= False, drop_last = False)\n",
    "test_dataloader = convert_dataframe_to_dataloader(dataframe= test_set, config = config, shuffle= False, drop_last = False)\n",
    "pool_dataloader = convert_dataframe_to_dataloader(dataframe= pool_set, config = config, shuffle= False, drop_last = False)\n",
    "\n",
    "# Train model\n",
    "config[\"training_steps\"] = len(train_dataloader)\n",
    "trained_model, run, trainer = wandb_init_model(model = Vanilla_MLP_classifier, \n",
    "                                                        train_dataloader = train_dataloader,\n",
    "                                                        val_dataloader =val_dataloader,\n",
    "                                                        config = config, \n",
    "                                                        model_type = 'MLP')"
   ]
  },
  {
   "cell_type": "code",
   "execution_count": 5,
   "metadata": {},
   "outputs": [],
   "source": [
    "wandb.finish()"
   ]
  },
  {
   "cell_type": "code",
   "execution_count": 6,
   "metadata": {},
   "outputs": [
    {
     "name": "stdout",
     "output_type": "stream",
     "text": [
      "######### EPIG SAMPLING ############\n"
     ]
    },
    {
     "name": "stderr",
     "output_type": "stream",
     "text": [
      "WARNING:root:Invalid EPIG score (min = -0.00017455981152170045, max = 0.005179359635581759)\n"
     ]
    },
    {
     "name": "stdout",
     "output_type": "stream",
     "text": [
      "0.005179359635581759\n",
      "initial_counts 1434 initial_poolset_count 51715 query_counts 100 updated_training_counts 1534 updated_poolset_counts 51615\n"
     ]
    }
   ],
   "source": [
    "# EPIG\n",
    "trained_model = trained_model.eval()\n",
    "query_set, updated_training_set, updated_poolset = active_learning_loop(trained_model,\n",
    "                                                                        pool_dataloader, \n",
    "                                                                        initial_set,\n",
    "                                                                        pool_set, \n",
    "                                                                        config,\n",
    "                                                                        query_set = None,\n",
    "                                                                        test_dataloader = test_dataloader,\n",
    "                                                                        test_set = test_set)"
   ]
  },
  {
   "cell_type": "code",
   "execution_count": null,
   "metadata": {},
   "outputs": [],
   "source": []
  }
 ],
 "metadata": {
  "kernelspec": {
   "display_name": "env_arslan",
   "language": "python",
   "name": "python3"
  },
  "language_info": {
   "codemirror_mode": {
    "name": "ipython",
    "version": 3
   },
   "file_extension": ".py",
   "mimetype": "text/x-python",
   "name": "python",
   "nbconvert_exporter": "python",
   "pygments_lexer": "ipython3",
   "version": "3.9.10"
  },
  "orig_nbformat": 4
 },
 "nbformat": 4,
 "nbformat_minor": 2
}
