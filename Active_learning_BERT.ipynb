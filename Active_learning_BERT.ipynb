{
 "cells": [
  {
   "cell_type": "code",
   "execution_count": 2,
   "metadata": {},
   "outputs": [],
   "source": [
    "config = {\n",
    "        # directories\n",
    "        \"project_name\": \"Test\",\n",
    "        \"metadata_dir\": '/projects/home/mmasood1/trained_model_predictions/Tox21/Frozen_BERT/uniform_sampling/',\n",
    "        \"target_file\": \"/projects/home/mmasood1/arslan_data_repository/Tox21/complete_Tox21.csv\",\n",
    "        \"BERT_features_file\":\"/projects/home/mmasood1/arslan_data_repository/Tox21/Tox21_BERT_features.csv\",\n",
    "        \"model_weights_dir\" : '/projects/home/mmasood1/Model_weights/Tox21/',\n",
    "        \"pos_weights\": \"/projects/home/mmasood1/arslan_data_repository/Tox21/pos_weights.csv\",\n",
    "        \"class_weights\": \"/projects/home/mmasood1/arslan_data_repository/Tox21/target_weights.csv\",\n",
    "        \n",
    "        # data\n",
    "        \"features_type\" :\"BERT\",\n",
    "        \"FP_size\" : 1024,\n",
    "        \"train_frac\": 0.8,\n",
    "\n",
    "        # architechture\n",
    "        \"input_dim\": 768,\n",
    "        \"hidden_dim\": 128,\n",
    "        \"depth\" : 1,\n",
    "        \"dropout_p\": 0.2,\n",
    "        \"BatchNorm1d\": True,\n",
    "        \"use_skip_connection\": True,\n",
    "    \n",
    "        # training\n",
    "        \"optim\": 'Adam',#SGD\n",
    "        \"lr_schedulers\": \"CosineAnnealingLR\",\n",
    "        \"lr\": 1e-3,\n",
    "        \"l2_lambda\": 0.0,\n",
    "        \"optm_l2_lambda\": 1e-3,\n",
    "        \"epochs\": 20,\n",
    "        \"compute_metric_after_n_epochs\": 5,\n",
    "        \"batch_size\": 64,\n",
    "        \"EarlyStopping\": False, \n",
    "        \"pretrained_model\": False,\n",
    "        \n",
    "        # loss\n",
    "        \"missing\" : 'nan',\n",
    "        \"alpha\": 0.0,\n",
    "        \"beta\": 0.0,\n",
    "        \"gamma\":0.0,\n",
    "\n",
    "        \"gpu\": [0],\n",
    "        \"accelerator\": \"gpu\",\n",
    "        \"device\" :torch.device(\"cuda\"),\n",
    "        \"return_trainer\": True, \n",
    "        \"save_predicitons\" : True,\n",
    "        \"Final_model\": False,\n",
    "\n",
    "        # active learning\n",
    "        \"num_forward_passes\": 5,\n",
    "        \"num_itterations\": 3,\n",
    "        \"sampling_strategy\": \"uniform\",\n",
    "        \"n_query\":500\n",
    "    }\n",
    "\n",
    "# get targets information\n",
    "data = pd.read_csv(config[\"target_file\"])\n",
    "target_names = data.loc[:, \"NR-AR\":\"SR-p53\"].columns.tolist()\n",
    "\n",
    "config[\"num_of_tasks\"] = len(target_names)\n",
    "config[\"selected_tasks\"] = target_names\n",
    "\n",
    "config[\"loss_type\"] = \"Focal_loss\" #\"Focal_loss\",# \"BCE\",\"Focal_loss_v2\"\n",
    "config[\"seed\"] = 42"
   ]
  },
  {
   "cell_type": "code",
   "execution_count": null,
   "metadata": {},
   "outputs": [
    {
     "name": "stdout",
     "output_type": "stream",
     "text": [
      "train_test_features (6121, 768) (1531, 768)\n",
      "train_test_targets (6121, 12) (1531, 12)\n",
      "train_set [114.0, 183.0, 185.0, 203.0, 249.0, 249.0, 256.0, 280.0, 587.0, 640.0, 687.0, 687.0]\n",
      "test_set [42.0, 47.0, 52.0, 55.0, 63.0, 88.0, 91.0, 139.0, 140.0, 177.0, 204.0, 218.0]\n",
      "pool_set [99.0, 149.0, 153.0, 169.0, 212.0, 213.0, 219.0, 235.0, 500.0, 534.0, 585.0, 587.0]\n",
      "val_set [13.0, 25.0, 29.0, 30.0, 30.0, 33.0, 37.0, 40.0, 79.0, 91.0, 93.0, 94.0]\n",
      "initial_set [2.0, 3.0, 3.0, 4.0, 4.0, 5.0, 5.0, 7.0, 8.0, 8.0, 9.0, 13.0]\n"
     ]
    },
    {
     "data": {
      "text/plain": [
       "((6121, 12), (1531, 12), (5203, 12), (820, 12), (98, 12))"
      ]
     },
     "execution_count": 3,
     "metadata": {},
     "output_type": "execute_result"
    }
   ],
   "source": [
    "# Splitting by using deepchem\n",
    "train_set, test_set = scafoldsplit_train_test(config)\n",
    "\n",
    "randomstratifiedsplitter = dc.splits.RandomStratifiedSplitter()\n",
    "pool_set, val_set, initial_set = randomstratifiedsplitter.train_valid_test_split(train_set,\n",
    "                                                                                 frac_train=0.85,\n",
    "                                                                                 frac_valid=0.134,\n",
    "                                                                                 frac_test=0.016,\n",
    "                                                                                 seed=42)\n",
    "\n",
    "print(\"train_set\", sorted(np.nansum(train_set.y, axis=0)))\n",
    "print(\"test_set\", sorted(np.nansum(test_set.y, axis=0)))\n",
    "print(\"pool_set\", sorted(np.nansum(pool_set.y, axis=0)))\n",
    "print(\"val_set\", sorted(np.nansum(val_set.y, axis=0)))\n",
    "print(\"initial_set\", sorted(np.nansum(initial_set.y, axis=0)))\n",
    "train_set.y.shape, test_set.y.shape, pool_set.y.shape, val_set.y.shape, initial_set.y.shape\n"
   ]
  },
  {
   "cell_type": "code",
   "execution_count": null,
   "metadata": {},
   "outputs": [],
   "source": [
    "# Who cares about deepchem data_object, trash it\n",
    "initial_set = convert_to_dataframe(initial_set, config[\"selected_tasks\"])\n",
    "val_set = convert_to_dataframe(val_set, config[\"selected_tasks\"])\n",
    "pool_set = convert_to_dataframe(pool_set, config[\"selected_tasks\"])\n",
    "test_set = convert_to_dataframe(test_set, config[\"selected_tasks\"])"
   ]
  },
  {
   "cell_type": "code",
   "execution_count": 5,
   "metadata": {},
   "outputs": [
    {
     "name": "stderr",
     "output_type": "stream",
     "text": [
      "Seed set to 42\n"
     ]
    },
    {
     "name": "stdout",
     "output_type": "stream",
     "text": [
      "After merging (98, 768)\n",
      "After merging (820, 768)\n",
      "After merging (1531, 768)\n",
      "After merging (5203, 768)\n"
     ]
    },
    {
     "name": "stderr",
     "output_type": "stream",
     "text": [
      "GPU available: True (cuda), used: True\n",
      "TPU available: False, using: 0 TPU cores\n",
      "IPU available: False, using: 0 IPUs\n",
      "HPU available: False, using: 0 HPUs\n",
      "/home/mmasood1/.conda/envs/env_arslan/lib/python3.9/site-packages/pytorch_lightning/loggers/wandb.py:389: There is a wandb run already in progress and newly created instances of `WandbLogger` will reuse this run. If this is not desired, call `wandb.finish()` before instantiating `WandbLogger`.\n",
      "/home/mmasood1/.conda/envs/env_arslan/lib/python3.9/site-packages/pytorch_lightning/callbacks/model_checkpoint.py:634: Checkpoint directory /projects/home/mmasood1/Model_weights/Tox21/ exists and is not empty.\n",
      "LOCAL_RANK: 0 - CUDA_VISIBLE_DEVICES: [0]\n",
      "\n",
      "  | Name                   | Type              | Params\n",
      "-------------------------------------------------------------\n",
      "0 | weighted_creterien     | BCEWithLogitsLoss | 0     \n",
      "1 | non_weighted_creterian | BCEWithLogitsLoss | 0     \n",
      "2 | FL                     | FocalLoss         | 0     \n",
      "3 | input_layer            | Linear            | 98.4 K\n",
      "4 | Hidden_block           | ModuleList        | 16.8 K\n",
      "5 | output_layer           | Linear            | 1.5 K \n",
      "6 | dropout                | Dropout           | 0     \n",
      "7 | batchnorm1             | BatchNorm1d       | 256   \n",
      "-------------------------------------------------------------\n",
      "117 K     Trainable params\n",
      "0         Non-trainable params\n",
      "117 K     Total params\n",
      "0.468     Total estimated model params size (MB)\n"
     ]
    },
    {
     "data": {
      "application/vnd.jupyter.widget-view+json": {
       "model_id": "01221185d4d449edb9df27a9386ef1ec",
       "version_major": 2,
       "version_minor": 0
      },
      "text/plain": [
       "Sanity Checking: |          | 0/? [00:00<?, ?it/s]"
      ]
     },
     "metadata": {},
     "output_type": "display_data"
    },
    {
     "name": "stderr",
     "output_type": "stream",
     "text": [
      "/home/mmasood1/.conda/envs/env_arslan/lib/python3.9/site-packages/pytorch_lightning/trainer/connectors/data_connector.py:441: The 'val_dataloader' does not have many workers which may be a bottleneck. Consider increasing the value of the `num_workers` argument` to `num_workers=15` in the `DataLoader` to improve performance.\n",
      "/home/mmasood1/.conda/envs/env_arslan/lib/python3.9/site-packages/pytorch_lightning/trainer/connectors/data_connector.py:441: The 'train_dataloader' does not have many workers which may be a bottleneck. Consider increasing the value of the `num_workers` argument` to `num_workers=15` in the `DataLoader` to improve performance.\n",
      "/home/mmasood1/.conda/envs/env_arslan/lib/python3.9/site-packages/pytorch_lightning/loops/fit_loop.py:293: The number of training batches (2) is smaller than the logging interval Trainer(log_every_n_steps=50). Set a lower value for log_every_n_steps if you want to see logs for the training epoch.\n"
     ]
    },
    {
     "data": {
      "application/vnd.jupyter.widget-view+json": {
       "model_id": "6477fb27752a4768ad8b625da6327a85",
       "version_major": 2,
       "version_minor": 0
      },
      "text/plain": [
       "Training: |          | 0/? [00:00<?, ?it/s]"
      ]
     },
     "metadata": {},
     "output_type": "display_data"
    },
    {
     "data": {
      "application/vnd.jupyter.widget-view+json": {
       "model_id": "72b6e792862247f5b83ceba748d4e911",
       "version_major": 2,
       "version_minor": 0
      },
      "text/plain": [
       "Validation: |          | 0/? [00:00<?, ?it/s]"
      ]
     },
     "metadata": {},
     "output_type": "display_data"
    },
    {
     "data": {
      "application/vnd.jupyter.widget-view+json": {
       "model_id": "a60f6b864fc040df8130ab2bdcf9d922",
       "version_major": 2,
       "version_minor": 0
      },
      "text/plain": [
       "Validation: |          | 0/? [00:00<?, ?it/s]"
      ]
     },
     "metadata": {},
     "output_type": "display_data"
    },
    {
     "data": {
      "application/vnd.jupyter.widget-view+json": {
       "model_id": "0ff8a131c27348e2bfa367013db24ccc",
       "version_major": 2,
       "version_minor": 0
      },
      "text/plain": [
       "Validation: |          | 0/? [00:00<?, ?it/s]"
      ]
     },
     "metadata": {},
     "output_type": "display_data"
    },
    {
     "data": {
      "application/vnd.jupyter.widget-view+json": {
       "model_id": "a3f29864420542fa88470224c07af9fc",
       "version_major": 2,
       "version_minor": 0
      },
      "text/plain": [
       "Validation: |          | 0/? [00:00<?, ?it/s]"
      ]
     },
     "metadata": {},
     "output_type": "display_data"
    },
    {
     "data": {
      "application/vnd.jupyter.widget-view+json": {
       "model_id": "3f0457b656a24982bc891d6e4f10e4bd",
       "version_major": 2,
       "version_minor": 0
      },
      "text/plain": [
       "Validation: |          | 0/? [00:00<?, ?it/s]"
      ]
     },
     "metadata": {},
     "output_type": "display_data"
    },
    {
     "data": {
      "application/vnd.jupyter.widget-view+json": {
       "model_id": "379cda48c9de478bb9ad1f0a552fd393",
       "version_major": 2,
       "version_minor": 0
      },
      "text/plain": [
       "Validation: |          | 0/? [00:00<?, ?it/s]"
      ]
     },
     "metadata": {},
     "output_type": "display_data"
    },
    {
     "data": {
      "application/vnd.jupyter.widget-view+json": {
       "model_id": "4d5df7be71914a34b44e49e014ece6e0",
       "version_major": 2,
       "version_minor": 0
      },
      "text/plain": [
       "Validation: |          | 0/? [00:00<?, ?it/s]"
      ]
     },
     "metadata": {},
     "output_type": "display_data"
    },
    {
     "data": {
      "application/vnd.jupyter.widget-view+json": {
       "model_id": "473a1c7889d24359a73730ad76a4645a",
       "version_major": 2,
       "version_minor": 0
      },
      "text/plain": [
       "Validation: |          | 0/? [00:00<?, ?it/s]"
      ]
     },
     "metadata": {},
     "output_type": "display_data"
    },
    {
     "data": {
      "application/vnd.jupyter.widget-view+json": {
       "model_id": "f9254a2212c14e829185841a4e528bd5",
       "version_major": 2,
       "version_minor": 0
      },
      "text/plain": [
       "Validation: |          | 0/? [00:00<?, ?it/s]"
      ]
     },
     "metadata": {},
     "output_type": "display_data"
    },
    {
     "data": {
      "application/vnd.jupyter.widget-view+json": {
       "model_id": "084b114aba714558ba9e98d907b0a587",
       "version_major": 2,
       "version_minor": 0
      },
      "text/plain": [
       "Validation: |          | 0/? [00:00<?, ?it/s]"
      ]
     },
     "metadata": {},
     "output_type": "display_data"
    },
    {
     "data": {
      "application/vnd.jupyter.widget-view+json": {
       "model_id": "fd8d56c4b98e4055a9dbd1d82012188c",
       "version_major": 2,
       "version_minor": 0
      },
      "text/plain": [
       "Validation: |          | 0/? [00:00<?, ?it/s]"
      ]
     },
     "metadata": {},
     "output_type": "display_data"
    },
    {
     "data": {
      "application/vnd.jupyter.widget-view+json": {
       "model_id": "0e892511733547d5a718ccc5ca52c5a9",
       "version_major": 2,
       "version_minor": 0
      },
      "text/plain": [
       "Validation: |          | 0/? [00:00<?, ?it/s]"
      ]
     },
     "metadata": {},
     "output_type": "display_data"
    },
    {
     "data": {
      "application/vnd.jupyter.widget-view+json": {
       "model_id": "979552f43dc343ffa9d98ce6b7ce6ee4",
       "version_major": 2,
       "version_minor": 0
      },
      "text/plain": [
       "Validation: |          | 0/? [00:00<?, ?it/s]"
      ]
     },
     "metadata": {},
     "output_type": "display_data"
    },
    {
     "data": {
      "application/vnd.jupyter.widget-view+json": {
       "model_id": "6a33b6cbb6aa4d54940191a7bccd102f",
       "version_major": 2,
       "version_minor": 0
      },
      "text/plain": [
       "Validation: |          | 0/? [00:00<?, ?it/s]"
      ]
     },
     "metadata": {},
     "output_type": "display_data"
    },
    {
     "data": {
      "application/vnd.jupyter.widget-view+json": {
       "model_id": "afc7cd74b5f7432c8f14c04fc1380380",
       "version_major": 2,
       "version_minor": 0
      },
      "text/plain": [
       "Validation: |          | 0/? [00:00<?, ?it/s]"
      ]
     },
     "metadata": {},
     "output_type": "display_data"
    },
    {
     "data": {
      "application/vnd.jupyter.widget-view+json": {
       "model_id": "605436cfbe79428183bb28a236a861f2",
       "version_major": 2,
       "version_minor": 0
      },
      "text/plain": [
       "Validation: |          | 0/? [00:00<?, ?it/s]"
      ]
     },
     "metadata": {},
     "output_type": "display_data"
    },
    {
     "data": {
      "application/vnd.jupyter.widget-view+json": {
       "model_id": "22454f31629a4a03bc4eb783235e308b",
       "version_major": 2,
       "version_minor": 0
      },
      "text/plain": [
       "Validation: |          | 0/? [00:00<?, ?it/s]"
      ]
     },
     "metadata": {},
     "output_type": "display_data"
    },
    {
     "data": {
      "application/vnd.jupyter.widget-view+json": {
       "model_id": "3a270134b4a748c1aacf4db87e555aa7",
       "version_major": 2,
       "version_minor": 0
      },
      "text/plain": [
       "Validation: |          | 0/? [00:00<?, ?it/s]"
      ]
     },
     "metadata": {},
     "output_type": "display_data"
    },
    {
     "data": {
      "application/vnd.jupyter.widget-view+json": {
       "model_id": "8aa51bedb3364ba0b8633a8179602e26",
       "version_major": 2,
       "version_minor": 0
      },
      "text/plain": [
       "Validation: |          | 0/? [00:00<?, ?it/s]"
      ]
     },
     "metadata": {},
     "output_type": "display_data"
    },
    {
     "data": {
      "application/vnd.jupyter.widget-view+json": {
       "model_id": "fe465730b29b4a488b6b20e741d7105a",
       "version_major": 2,
       "version_minor": 0
      },
      "text/plain": [
       "Validation: |          | 0/? [00:00<?, ?it/s]"
      ]
     },
     "metadata": {},
     "output_type": "display_data"
    },
    {
     "name": "stderr",
     "output_type": "stream",
     "text": [
      "`Trainer.fit` stopped: `max_epochs=20` reached.\n",
      "/tmp/ipykernel_9522/65254225.py:40: FutureWarning: The frame.append method is deprecated and will be removed from pandas in a future version. Use pandas.concat instead.\n",
      "  metrics = metrics.append(metrics.mean(), ignore_index=True)\n",
      "/tmp/ipykernel_9522/65254225.py:43: FutureWarning: The default value of numeric_only in DataFrame.mean is deprecated. In a future version, it will default to False. In addition, specifying 'numeric_only=None' is deprecated. Select only valid columns or specify the value of numeric_only to silence this warning.\n",
      "  print(metrics.mean())\n"
     ]
    },
    {
     "name": "stdout",
     "output_type": "stream",
     "text": [
      "balanced_acc         0.612222\n",
      "f1_score             0.250906\n",
      "specificity          0.604867\n",
      "sensitivity          0.619576\n",
      "roc_auc              0.614958\n",
      "AUPR                 0.174855\n",
      "average_precision    0.179347\n",
      "ECE                  0.173667\n",
      "ACE                  0.173125\n",
      "dtype: float64\n",
      "initial_counts 994 initial_poolset_count 52950 query_counts 500 updated_training_counts 1494 updated_poolset_counts 52450\n"
     ]
    },
    {
     "name": "stderr",
     "output_type": "stream",
     "text": [
      "Seed set to 42\n"
     ]
    },
    {
     "name": "stdout",
     "output_type": "stream",
     "text": [
      "++++++++++++++++++++++++++++++++++++++++++++++++++++\n",
      "GPU Memory Status (after clearing): 0.00044155120849609375\n",
      "++++++++++++++++++++++++++++++++++++++++++++++++++++\n",
      "After merging (575, 768)\n",
      "After merging (820, 768)\n",
      "After merging (1531, 768)\n",
      "After merging (5203, 768)\n"
     ]
    },
    {
     "name": "stderr",
     "output_type": "stream",
     "text": [
      "GPU available: True (cuda), used: True\n",
      "TPU available: False, using: 0 TPU cores\n",
      "IPU available: False, using: 0 IPUs\n",
      "HPU available: False, using: 0 HPUs\n",
      "/home/mmasood1/.conda/envs/env_arslan/lib/python3.9/site-packages/pytorch_lightning/loggers/wandb.py:389: There is a wandb run already in progress and newly created instances of `WandbLogger` will reuse this run. If this is not desired, call `wandb.finish()` before instantiating `WandbLogger`.\n",
      "/home/mmasood1/.conda/envs/env_arslan/lib/python3.9/site-packages/pytorch_lightning/callbacks/model_checkpoint.py:634: Checkpoint directory /projects/home/mmasood1/Model_weights/Tox21/ exists and is not empty.\n",
      "LOCAL_RANK: 0 - CUDA_VISIBLE_DEVICES: [0]\n",
      "\n",
      "  | Name                   | Type              | Params\n",
      "-------------------------------------------------------------\n",
      "0 | weighted_creterien     | BCEWithLogitsLoss | 0     \n",
      "1 | non_weighted_creterian | BCEWithLogitsLoss | 0     \n",
      "2 | FL                     | FocalLoss         | 0     \n",
      "3 | input_layer            | Linear            | 98.4 K\n",
      "4 | Hidden_block           | ModuleList        | 16.8 K\n",
      "5 | output_layer           | Linear            | 1.5 K \n",
      "6 | dropout                | Dropout           | 0     \n",
      "7 | batchnorm1             | BatchNorm1d       | 256   \n",
      "-------------------------------------------------------------\n",
      "117 K     Trainable params\n",
      "0         Non-trainable params\n",
      "117 K     Total params\n",
      "0.468     Total estimated model params size (MB)\n"
     ]
    },
    {
     "data": {
      "application/vnd.jupyter.widget-view+json": {
       "model_id": "f80cde9533ea4a37a5046a44c99219af",
       "version_major": 2,
       "version_minor": 0
      },
      "text/plain": [
       "Sanity Checking: |          | 0/? [00:00<?, ?it/s]"
      ]
     },
     "metadata": {},
     "output_type": "display_data"
    },
    {
     "name": "stderr",
     "output_type": "stream",
     "text": [
      "/home/mmasood1/.conda/envs/env_arslan/lib/python3.9/site-packages/pytorch_lightning/trainer/connectors/data_connector.py:441: The 'val_dataloader' does not have many workers which may be a bottleneck. Consider increasing the value of the `num_workers` argument` to `num_workers=15` in the `DataLoader` to improve performance.\n",
      "/home/mmasood1/.conda/envs/env_arslan/lib/python3.9/site-packages/pytorch_lightning/trainer/connectors/data_connector.py:441: The 'train_dataloader' does not have many workers which may be a bottleneck. Consider increasing the value of the `num_workers` argument` to `num_workers=15` in the `DataLoader` to improve performance.\n",
      "/home/mmasood1/.conda/envs/env_arslan/lib/python3.9/site-packages/pytorch_lightning/loops/fit_loop.py:293: The number of training batches (9) is smaller than the logging interval Trainer(log_every_n_steps=50). Set a lower value for log_every_n_steps if you want to see logs for the training epoch.\n"
     ]
    },
    {
     "data": {
      "application/vnd.jupyter.widget-view+json": {
       "model_id": "55f1a1985af244a4b23bd436be129e62",
       "version_major": 2,
       "version_minor": 0
      },
      "text/plain": [
       "Training: |          | 0/? [00:00<?, ?it/s]"
      ]
     },
     "metadata": {},
     "output_type": "display_data"
    },
    {
     "data": {
      "application/vnd.jupyter.widget-view+json": {
       "model_id": "d1256e28d79442528186b655dc75d995",
       "version_major": 2,
       "version_minor": 0
      },
      "text/plain": [
       "Validation: |          | 0/? [00:00<?, ?it/s]"
      ]
     },
     "metadata": {},
     "output_type": "display_data"
    },
    {
     "data": {
      "application/vnd.jupyter.widget-view+json": {
       "model_id": "d9a5dcb5b0224491a21c8a44d6daf0e2",
       "version_major": 2,
       "version_minor": 0
      },
      "text/plain": [
       "Validation: |          | 0/? [00:00<?, ?it/s]"
      ]
     },
     "metadata": {},
     "output_type": "display_data"
    },
    {
     "data": {
      "application/vnd.jupyter.widget-view+json": {
       "model_id": "ff5c01e2495646aaa39b9fe7958546db",
       "version_major": 2,
       "version_minor": 0
      },
      "text/plain": [
       "Validation: |          | 0/? [00:00<?, ?it/s]"
      ]
     },
     "metadata": {},
     "output_type": "display_data"
    },
    {
     "data": {
      "application/vnd.jupyter.widget-view+json": {
       "model_id": "d60a378d2dbf46b49315c63ffcedea6a",
       "version_major": 2,
       "version_minor": 0
      },
      "text/plain": [
       "Validation: |          | 0/? [00:00<?, ?it/s]"
      ]
     },
     "metadata": {},
     "output_type": "display_data"
    },
    {
     "data": {
      "application/vnd.jupyter.widget-view+json": {
       "model_id": "699f81ebfc3443d6bb9d0c025be88d98",
       "version_major": 2,
       "version_minor": 0
      },
      "text/plain": [
       "Validation: |          | 0/? [00:00<?, ?it/s]"
      ]
     },
     "metadata": {},
     "output_type": "display_data"
    },
    {
     "data": {
      "application/vnd.jupyter.widget-view+json": {
       "model_id": "72f4cdacf50b46aaa77b87fab678539f",
       "version_major": 2,
       "version_minor": 0
      },
      "text/plain": [
       "Validation: |          | 0/? [00:00<?, ?it/s]"
      ]
     },
     "metadata": {},
     "output_type": "display_data"
    },
    {
     "data": {
      "application/vnd.jupyter.widget-view+json": {
       "model_id": "38f3351641b54e4e8cb74c99dad58244",
       "version_major": 2,
       "version_minor": 0
      },
      "text/plain": [
       "Validation: |          | 0/? [00:00<?, ?it/s]"
      ]
     },
     "metadata": {},
     "output_type": "display_data"
    },
    {
     "data": {
      "application/vnd.jupyter.widget-view+json": {
       "model_id": "a075b0434147457c9ebfb59d3a87d173",
       "version_major": 2,
       "version_minor": 0
      },
      "text/plain": [
       "Validation: |          | 0/? [00:00<?, ?it/s]"
      ]
     },
     "metadata": {},
     "output_type": "display_data"
    },
    {
     "data": {
      "application/vnd.jupyter.widget-view+json": {
       "model_id": "f3726f5e21b54ec7a7788c10e7408fdc",
       "version_major": 2,
       "version_minor": 0
      },
      "text/plain": [
       "Validation: |          | 0/? [00:00<?, ?it/s]"
      ]
     },
     "metadata": {},
     "output_type": "display_data"
    },
    {
     "data": {
      "application/vnd.jupyter.widget-view+json": {
       "model_id": "66b2142aa7564e1f99cdda4137f53eec",
       "version_major": 2,
       "version_minor": 0
      },
      "text/plain": [
       "Validation: |          | 0/? [00:00<?, ?it/s]"
      ]
     },
     "metadata": {},
     "output_type": "display_data"
    },
    {
     "data": {
      "application/vnd.jupyter.widget-view+json": {
       "model_id": "34faa107aa814b1abdbf7e6e65b96586",
       "version_major": 2,
       "version_minor": 0
      },
      "text/plain": [
       "Validation: |          | 0/? [00:00<?, ?it/s]"
      ]
     },
     "metadata": {},
     "output_type": "display_data"
    },
    {
     "data": {
      "application/vnd.jupyter.widget-view+json": {
       "model_id": "a19ed201768a47b989353278c006ef99",
       "version_major": 2,
       "version_minor": 0
      },
      "text/plain": [
       "Validation: |          | 0/? [00:00<?, ?it/s]"
      ]
     },
     "metadata": {},
     "output_type": "display_data"
    },
    {
     "data": {
      "application/vnd.jupyter.widget-view+json": {
       "model_id": "3d09e46e5d9847a4a7f3929c07c2d825",
       "version_major": 2,
       "version_minor": 0
      },
      "text/plain": [
       "Validation: |          | 0/? [00:00<?, ?it/s]"
      ]
     },
     "metadata": {},
     "output_type": "display_data"
    },
    {
     "data": {
      "application/vnd.jupyter.widget-view+json": {
       "model_id": "238d6f56c1ad45c48b7fa466fa090326",
       "version_major": 2,
       "version_minor": 0
      },
      "text/plain": [
       "Validation: |          | 0/? [00:00<?, ?it/s]"
      ]
     },
     "metadata": {},
     "output_type": "display_data"
    },
    {
     "data": {
      "application/vnd.jupyter.widget-view+json": {
       "model_id": "01c52a141c4645ffac049f400a14a7df",
       "version_major": 2,
       "version_minor": 0
      },
      "text/plain": [
       "Validation: |          | 0/? [00:00<?, ?it/s]"
      ]
     },
     "metadata": {},
     "output_type": "display_data"
    },
    {
     "data": {
      "application/vnd.jupyter.widget-view+json": {
       "model_id": "f668da6f1d474f89afb22bbb65e9095d",
       "version_major": 2,
       "version_minor": 0
      },
      "text/plain": [
       "Validation: |          | 0/? [00:00<?, ?it/s]"
      ]
     },
     "metadata": {},
     "output_type": "display_data"
    },
    {
     "data": {
      "application/vnd.jupyter.widget-view+json": {
       "model_id": "2619a90736d84cc28611951405dee941",
       "version_major": 2,
       "version_minor": 0
      },
      "text/plain": [
       "Validation: |          | 0/? [00:00<?, ?it/s]"
      ]
     },
     "metadata": {},
     "output_type": "display_data"
    },
    {
     "data": {
      "application/vnd.jupyter.widget-view+json": {
       "model_id": "0a1a951345eb4bf4b0ddc67874c144f6",
       "version_major": 2,
       "version_minor": 0
      },
      "text/plain": [
       "Validation: |          | 0/? [00:00<?, ?it/s]"
      ]
     },
     "metadata": {},
     "output_type": "display_data"
    },
    {
     "data": {
      "application/vnd.jupyter.widget-view+json": {
       "model_id": "7ebbf6244316422abdecd4290c92bcad",
       "version_major": 2,
       "version_minor": 0
      },
      "text/plain": [
       "Validation: |          | 0/? [00:00<?, ?it/s]"
      ]
     },
     "metadata": {},
     "output_type": "display_data"
    },
    {
     "data": {
      "application/vnd.jupyter.widget-view+json": {
       "model_id": "0f93e4d4638644179d551368ef3795a7",
       "version_major": 2,
       "version_minor": 0
      },
      "text/plain": [
       "Validation: |          | 0/? [00:00<?, ?it/s]"
      ]
     },
     "metadata": {},
     "output_type": "display_data"
    },
    {
     "name": "stderr",
     "output_type": "stream",
     "text": [
      "`Trainer.fit` stopped: `max_epochs=20` reached.\n",
      "/tmp/ipykernel_9522/65254225.py:40: FutureWarning: The frame.append method is deprecated and will be removed from pandas in a future version. Use pandas.concat instead.\n",
      "  metrics = metrics.append(metrics.mean(), ignore_index=True)\n",
      "/tmp/ipykernel_9522/65254225.py:43: FutureWarning: The default value of numeric_only in DataFrame.mean is deprecated. In a future version, it will default to False. In addition, specifying 'numeric_only=None' is deprecated. Select only valid columns or specify the value of numeric_only to silence this warning.\n",
      "  print(metrics.mean())\n"
     ]
    },
    {
     "name": "stdout",
     "output_type": "stream",
     "text": [
      "balanced_acc         0.631928\n",
      "f1_score             0.277247\n",
      "specificity          0.535261\n",
      "sensitivity          0.728595\n",
      "roc_auc              0.648877\n",
      "AUPR                 0.204463\n",
      "average_precision    0.208665\n",
      "ECE                  0.070249\n",
      "ACE                  0.074641\n",
      "dtype: float64\n",
      "initial_counts 1494 initial_poolset_count 52450 query_counts 500 updated_training_counts 1994 updated_poolset_counts 51950\n"
     ]
    },
    {
     "name": "stderr",
     "output_type": "stream",
     "text": [
      "Seed set to 42\n"
     ]
    },
    {
     "name": "stdout",
     "output_type": "stream",
     "text": [
      "++++++++++++++++++++++++++++++++++++++++++++++++++++\n",
      "GPU Memory Status (after clearing): 0.00044155120849609375\n",
      "++++++++++++++++++++++++++++++++++++++++++++++++++++\n",
      "After merging (1001, 768)\n",
      "After merging (820, 768)\n",
      "After merging (1531, 768)\n",
      "After merging (5202, 768)\n"
     ]
    },
    {
     "name": "stderr",
     "output_type": "stream",
     "text": [
      "GPU available: True (cuda), used: True\n",
      "TPU available: False, using: 0 TPU cores\n",
      "IPU available: False, using: 0 IPUs\n",
      "HPU available: False, using: 0 HPUs\n",
      "/home/mmasood1/.conda/envs/env_arslan/lib/python3.9/site-packages/pytorch_lightning/loggers/wandb.py:389: There is a wandb run already in progress and newly created instances of `WandbLogger` will reuse this run. If this is not desired, call `wandb.finish()` before instantiating `WandbLogger`.\n",
      "/home/mmasood1/.conda/envs/env_arslan/lib/python3.9/site-packages/pytorch_lightning/callbacks/model_checkpoint.py:634: Checkpoint directory /projects/home/mmasood1/Model_weights/Tox21/ exists and is not empty.\n",
      "LOCAL_RANK: 0 - CUDA_VISIBLE_DEVICES: [0]\n",
      "\n",
      "  | Name                   | Type              | Params\n",
      "-------------------------------------------------------------\n",
      "0 | weighted_creterien     | BCEWithLogitsLoss | 0     \n",
      "1 | non_weighted_creterian | BCEWithLogitsLoss | 0     \n",
      "2 | FL                     | FocalLoss         | 0     \n",
      "3 | input_layer            | Linear            | 98.4 K\n",
      "4 | Hidden_block           | ModuleList        | 16.8 K\n",
      "5 | output_layer           | Linear            | 1.5 K \n",
      "6 | dropout                | Dropout           | 0     \n",
      "7 | batchnorm1             | BatchNorm1d       | 256   \n",
      "-------------------------------------------------------------\n",
      "117 K     Trainable params\n",
      "0         Non-trainable params\n",
      "117 K     Total params\n",
      "0.468     Total estimated model params size (MB)\n"
     ]
    },
    {
     "data": {
      "application/vnd.jupyter.widget-view+json": {
       "model_id": "99eb90d7fbb34a81acff075a4452c327",
       "version_major": 2,
       "version_minor": 0
      },
      "text/plain": [
       "Sanity Checking: |          | 0/? [00:00<?, ?it/s]"
      ]
     },
     "metadata": {},
     "output_type": "display_data"
    },
    {
     "name": "stderr",
     "output_type": "stream",
     "text": [
      "/home/mmasood1/.conda/envs/env_arslan/lib/python3.9/site-packages/pytorch_lightning/trainer/connectors/data_connector.py:441: The 'val_dataloader' does not have many workers which may be a bottleneck. Consider increasing the value of the `num_workers` argument` to `num_workers=15` in the `DataLoader` to improve performance.\n",
      "/home/mmasood1/.conda/envs/env_arslan/lib/python3.9/site-packages/pytorch_lightning/trainer/connectors/data_connector.py:441: The 'train_dataloader' does not have many workers which may be a bottleneck. Consider increasing the value of the `num_workers` argument` to `num_workers=15` in the `DataLoader` to improve performance.\n",
      "/home/mmasood1/.conda/envs/env_arslan/lib/python3.9/site-packages/pytorch_lightning/loops/fit_loop.py:293: The number of training batches (16) is smaller than the logging interval Trainer(log_every_n_steps=50). Set a lower value for log_every_n_steps if you want to see logs for the training epoch.\n"
     ]
    },
    {
     "data": {
      "application/vnd.jupyter.widget-view+json": {
       "model_id": "0ed703ea68324ea0830ac780592a1ea5",
       "version_major": 2,
       "version_minor": 0
      },
      "text/plain": [
       "Training: |          | 0/? [00:00<?, ?it/s]"
      ]
     },
     "metadata": {},
     "output_type": "display_data"
    },
    {
     "data": {
      "application/vnd.jupyter.widget-view+json": {
       "model_id": "c19a8ebe2d684551876906daf914530b",
       "version_major": 2,
       "version_minor": 0
      },
      "text/plain": [
       "Validation: |          | 0/? [00:00<?, ?it/s]"
      ]
     },
     "metadata": {},
     "output_type": "display_data"
    },
    {
     "data": {
      "application/vnd.jupyter.widget-view+json": {
       "model_id": "abf6e921bfd14a2d9b67763ad9e8d6bf",
       "version_major": 2,
       "version_minor": 0
      },
      "text/plain": [
       "Validation: |          | 0/? [00:00<?, ?it/s]"
      ]
     },
     "metadata": {},
     "output_type": "display_data"
    },
    {
     "data": {
      "application/vnd.jupyter.widget-view+json": {
       "model_id": "4bf5ac8491b5456aa240cd66f0968e2d",
       "version_major": 2,
       "version_minor": 0
      },
      "text/plain": [
       "Validation: |          | 0/? [00:00<?, ?it/s]"
      ]
     },
     "metadata": {},
     "output_type": "display_data"
    },
    {
     "data": {
      "application/vnd.jupyter.widget-view+json": {
       "model_id": "0d32e0a93c2d4f43b2f62da3a264a393",
       "version_major": 2,
       "version_minor": 0
      },
      "text/plain": [
       "Validation: |          | 0/? [00:00<?, ?it/s]"
      ]
     },
     "metadata": {},
     "output_type": "display_data"
    },
    {
     "data": {
      "application/vnd.jupyter.widget-view+json": {
       "model_id": "75992c65f75a47e9ba574201204a2f2f",
       "version_major": 2,
       "version_minor": 0
      },
      "text/plain": [
       "Validation: |          | 0/? [00:00<?, ?it/s]"
      ]
     },
     "metadata": {},
     "output_type": "display_data"
    },
    {
     "data": {
      "application/vnd.jupyter.widget-view+json": {
       "model_id": "4509ea12b34f4b53a6f90ca503c10d0a",
       "version_major": 2,
       "version_minor": 0
      },
      "text/plain": [
       "Validation: |          | 0/? [00:00<?, ?it/s]"
      ]
     },
     "metadata": {},
     "output_type": "display_data"
    },
    {
     "data": {
      "application/vnd.jupyter.widget-view+json": {
       "model_id": "641952ccffb343509b7ed540d3d9fca0",
       "version_major": 2,
       "version_minor": 0
      },
      "text/plain": [
       "Validation: |          | 0/? [00:00<?, ?it/s]"
      ]
     },
     "metadata": {},
     "output_type": "display_data"
    },
    {
     "data": {
      "application/vnd.jupyter.widget-view+json": {
       "model_id": "8b97796275e84fb596468c467b6e26fa",
       "version_major": 2,
       "version_minor": 0
      },
      "text/plain": [
       "Validation: |          | 0/? [00:00<?, ?it/s]"
      ]
     },
     "metadata": {},
     "output_type": "display_data"
    },
    {
     "data": {
      "application/vnd.jupyter.widget-view+json": {
       "model_id": "b7711685852c453ab668a33bdcd17e98",
       "version_major": 2,
       "version_minor": 0
      },
      "text/plain": [
       "Validation: |          | 0/? [00:00<?, ?it/s]"
      ]
     },
     "metadata": {},
     "output_type": "display_data"
    },
    {
     "data": {
      "application/vnd.jupyter.widget-view+json": {
       "model_id": "94dba771d1c7450fb015318ed743d016",
       "version_major": 2,
       "version_minor": 0
      },
      "text/plain": [
       "Validation: |          | 0/? [00:00<?, ?it/s]"
      ]
     },
     "metadata": {},
     "output_type": "display_data"
    },
    {
     "data": {
      "application/vnd.jupyter.widget-view+json": {
       "model_id": "1ef8b74d23df4ee78ece7d88cd838acc",
       "version_major": 2,
       "version_minor": 0
      },
      "text/plain": [
       "Validation: |          | 0/? [00:00<?, ?it/s]"
      ]
     },
     "metadata": {},
     "output_type": "display_data"
    },
    {
     "data": {
      "application/vnd.jupyter.widget-view+json": {
       "model_id": "76d0cd46876f447887cc0b30a41f33fb",
       "version_major": 2,
       "version_minor": 0
      },
      "text/plain": [
       "Validation: |          | 0/? [00:00<?, ?it/s]"
      ]
     },
     "metadata": {},
     "output_type": "display_data"
    },
    {
     "data": {
      "application/vnd.jupyter.widget-view+json": {
       "model_id": "dc901f2efbb9481aa088eb6d973a7852",
       "version_major": 2,
       "version_minor": 0
      },
      "text/plain": [
       "Validation: |          | 0/? [00:00<?, ?it/s]"
      ]
     },
     "metadata": {},
     "output_type": "display_data"
    },
    {
     "data": {
      "application/vnd.jupyter.widget-view+json": {
       "model_id": "8a1b755363e54279a96d45deefe3a351",
       "version_major": 2,
       "version_minor": 0
      },
      "text/plain": [
       "Validation: |          | 0/? [00:00<?, ?it/s]"
      ]
     },
     "metadata": {},
     "output_type": "display_data"
    },
    {
     "data": {
      "application/vnd.jupyter.widget-view+json": {
       "model_id": "cbbf3487084846f689e97e09fcf3a73e",
       "version_major": 2,
       "version_minor": 0
      },
      "text/plain": [
       "Validation: |          | 0/? [00:00<?, ?it/s]"
      ]
     },
     "metadata": {},
     "output_type": "display_data"
    },
    {
     "data": {
      "application/vnd.jupyter.widget-view+json": {
       "model_id": "aabb56b3caf247f5aab1836724435df9",
       "version_major": 2,
       "version_minor": 0
      },
      "text/plain": [
       "Validation: |          | 0/? [00:00<?, ?it/s]"
      ]
     },
     "metadata": {},
     "output_type": "display_data"
    },
    {
     "data": {
      "application/vnd.jupyter.widget-view+json": {
       "model_id": "f45b44d4b73a4a9bb817377a31de4a73",
       "version_major": 2,
       "version_minor": 0
      },
      "text/plain": [
       "Validation: |          | 0/? [00:00<?, ?it/s]"
      ]
     },
     "metadata": {},
     "output_type": "display_data"
    },
    {
     "data": {
      "application/vnd.jupyter.widget-view+json": {
       "model_id": "7361a3c468ed41029c69927b5e67889b",
       "version_major": 2,
       "version_minor": 0
      },
      "text/plain": [
       "Validation: |          | 0/? [00:00<?, ?it/s]"
      ]
     },
     "metadata": {},
     "output_type": "display_data"
    },
    {
     "data": {
      "application/vnd.jupyter.widget-view+json": {
       "model_id": "73822b7c14384979be695a7ee78e6e6e",
       "version_major": 2,
       "version_minor": 0
      },
      "text/plain": [
       "Validation: |          | 0/? [00:00<?, ?it/s]"
      ]
     },
     "metadata": {},
     "output_type": "display_data"
    },
    {
     "data": {
      "application/vnd.jupyter.widget-view+json": {
       "model_id": "9624712c9bc14eae9e028170f927839d",
       "version_major": 2,
       "version_minor": 0
      },
      "text/plain": [
       "Validation: |          | 0/? [00:00<?, ?it/s]"
      ]
     },
     "metadata": {},
     "output_type": "display_data"
    },
    {
     "name": "stderr",
     "output_type": "stream",
     "text": [
      "`Trainer.fit` stopped: `max_epochs=20` reached.\n",
      "/tmp/ipykernel_9522/65254225.py:40: FutureWarning: The frame.append method is deprecated and will be removed from pandas in a future version. Use pandas.concat instead.\n",
      "  metrics = metrics.append(metrics.mean(), ignore_index=True)\n",
      "/tmp/ipykernel_9522/65254225.py:43: FutureWarning: The default value of numeric_only in DataFrame.mean is deprecated. In a future version, it will default to False. In addition, specifying 'numeric_only=None' is deprecated. Select only valid columns or specify the value of numeric_only to silence this warning.\n",
      "  print(metrics.mean())\n"
     ]
    },
    {
     "name": "stdout",
     "output_type": "stream",
     "text": [
      "balanced_acc         0.643913\n",
      "f1_score             0.309555\n",
      "specificity          0.714908\n",
      "sensitivity          0.572919\n",
      "roc_auc              0.673822\n",
      "AUPR                 0.230266\n",
      "average_precision    0.234900\n",
      "ECE                  0.051280\n",
      "ACE                  0.053322\n",
      "dtype: float64\n",
      "initial_counts 1994 initial_poolset_count 51950 query_counts 500 updated_training_counts 2494 updated_poolset_counts 51450\n",
      "++++++++++++++++++++++++++++++++++++++++++++++++++++\n",
      "GPU Memory Status (after clearing): 0.00044155120849609375\n",
      "++++++++++++++++++++++++++++++++++++++++++++++++++++\n"
     ]
    }
   ],
   "source": [
    "for itteration in range(config[\"num_itterations\"]):\n",
    "\n",
    "    from utils.models import Vanilla_MLP_classifier\n",
    "    seed_everything(seed = config[\"seed\"])\n",
    "    config[\"itteration\"] = itteration\n",
    "    config[\"model_name\"] = rf'itteration_{config[\"itteration\"]}_s{config[\"seed\"]}_alpha_{config[\"alpha\"]}_gamma_{config[\"gamma\"]}_loss_type_{config[\"loss_type\"]}_λ{config[\"optm_l2_lambda\"]}'\n",
    "    \n",
    "    # get dataloaders\n",
    "    train_dataloader = convert_dataframe_to_dataloader(dataframe= initial_set, config = config, shuffle= True)\n",
    "    val_dataloader = convert_dataframe_to_dataloader(dataframe= val_set, config = config, shuffle= False)\n",
    "    test_dataloader = convert_dataframe_to_dataloader(dataframe= test_set, config = config, shuffle= False)\n",
    "    pool_dataloader = convert_dataframe_to_dataloader(dataframe= pool_set, config = config, shuffle= False)\n",
    "\n",
    "    # Train model\n",
    "    config[\"training_steps\"] = len(train_dataloader)\n",
    "    trained_model, run, trainer = wandb_init_model(model = Vanilla_MLP_classifier, \n",
    "                                                            train_dataloader = train_dataloader,\n",
    "                                                            val_dataloader =val_dataloader,\n",
    "                                                            config = config, \n",
    "                                                            model_type = 'MLP')\n",
    "    \n",
    "    wandb.finish()\n",
    "\n",
    "    ###### Model Evaluation #############\n",
    "    # make dir\n",
    "    query_set_dir = config[\"metadata_dir\"] + \"query_set/\"\n",
    "    result_dir = config[\"metadata_dir\"]\n",
    "    os.makedirs(query_set_dir, exist_ok = True)\n",
    "    os.makedirs(result_dir, exist_ok = True)\n",
    "\n",
    "    # Evaluation\n",
    "    trained_model = trained_model.eval()\n",
    "    targets, pred_mean, pred_var, all_pred = get_pred_with_uncertainities(test_dataloader, trained_model,\n",
    "                                                        n_samples=test_set.shape[0],\n",
    "                                                        n_classes=config[\"num_of_tasks\"],\n",
    "                                                        cal_uncert=False,\n",
    "                                                        num_forward_passes= 1)\n",
    "    metrics = compute_binary_classification_metrics_MT(targets, pred_mean, missing='nan')\n",
    "\n",
    "    metrics = metrics.append(metrics.mean(), ignore_index=True)\n",
    "    metrics.insert(0, 'Tasks', config[\"selected_tasks\"] + ['mean'])\n",
    "    metrics.to_csv(result_dir + f'metrics_{config[\"model_name\"]}.csv', index=False)\n",
    "    print(metrics.mean())\n",
    "\n",
    "    query_set, updated_training_set, updated_poolset = active_learning_loop(trained_model,\n",
    "                                                                        pool_dataloader, \n",
    "                                                                        initial_set,\n",
    "                                                                        pool_set, \n",
    "                                                                        config)\n",
    "    query_set.to_csv(query_set_dir + f'query_set_{config[\"model_name\"]}.csv', index=False)\n",
    "    del initial_set,pool_set\n",
    "    del train_dataloader,val_dataloader,test_dataloader,pool_dataloader, trained_model\n",
    "\n",
    "    initial_set = updated_training_set.copy()\n",
    "    pool_set = updated_poolset.copy()\n",
    "\n",
    "    torch.cuda.empty_cache()\n",
    "    gc.collect()\n",
    "\n",
    "    print('++++++++++++++++++++++++++++++++++++++++++++++++++++')\n",
    "    gpu_memory_status = torch.cuda.memory_allocated() / (1024 ** 3)\n",
    "    print(\"GPU Memory Status (after clearing):\", gpu_memory_status)\n",
    "    print('++++++++++++++++++++++++++++++++++++++++++++++++++++')"
   ]
  },
  {
   "cell_type": "code",
   "execution_count": null,
   "metadata": {},
   "outputs": [],
   "source": []
  },
  {
   "cell_type": "code",
   "execution_count": null,
   "metadata": {},
   "outputs": [],
   "source": []
  },
  {
   "cell_type": "code",
   "execution_count": null,
   "metadata": {},
   "outputs": [],
   "source": []
  }
 ],
 "metadata": {
  "kernelspec": {
   "display_name": "env_arslan",
   "language": "python",
   "name": "python3"
  },
  "language_info": {
   "codemirror_mode": {
    "name": "ipython",
    "version": 3
   },
   "file_extension": ".py",
   "mimetype": "text/x-python",
   "name": "python",
   "nbconvert_exporter": "python",
   "pygments_lexer": "ipython3",
   "version": "3.9.10"
  },
  "orig_nbformat": 4
 },
 "nbformat": 4,
 "nbformat_minor": 2
}
